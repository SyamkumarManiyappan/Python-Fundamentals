{
 "cells": [
  {
   "cell_type": "markdown",
   "id": "999b19c2-1768-4e39-8010-24022ff77e80",
   "metadata": {},
   "source": [
    "## Exercise 10 \n",
    "\n",
    "Name your file: PoundsToDollars.py Write a program that asks the user to enter an amount in pounds (£) and the program calculates and converts an amount in dollar ($) An example runs of the program: Please enter amount in pounds: XXX £ XXX are $ XXX\n"
   ]
  },
  {
   "cell_type": "code",
   "execution_count": 1,
   "id": "85cd12fa-308a-41f7-885a-7158a38a2bfe",
   "metadata": {},
   "outputs": [
    {
     "name": "stdin",
     "output_type": "stream",
     "text": [
      "Enter amount in pounds(£): 5\n"
     ]
    },
    {
     "name": "stdout",
     "output_type": "stream",
     "text": [
      "£5.0 are $ 6.2\n"
     ]
    }
   ],
   "source": [
    "pounds = float(input(\"Enter amount in pounds(£):\"))\n",
    "conversion_rate=1.24\n",
    "dollars = pounds * conversion_rate\n",
    "print(f\"£{pounds} are $ {dollars:}\")"
   ]
  },
  {
   "cell_type": "code",
   "execution_count": null,
   "id": "67a809b7-fa3f-4597-b79f-a7351000c47b",
   "metadata": {},
   "outputs": [],
   "source": []
  }
 ],
 "metadata": {
  "kernelspec": {
   "display_name": "Python 3 (ipykernel)",
   "language": "python",
   "name": "python3"
  },
  "language_info": {
   "codemirror_mode": {
    "name": "ipython",
    "version": 3
   },
   "file_extension": ".py",
   "mimetype": "text/x-python",
   "name": "python",
   "nbconvert_exporter": "python",
   "pygments_lexer": "ipython3",
   "version": "3.12.7"
  }
 },
 "nbformat": 4,
 "nbformat_minor": 5
}
