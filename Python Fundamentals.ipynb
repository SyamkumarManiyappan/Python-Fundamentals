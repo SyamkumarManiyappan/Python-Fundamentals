{
 "cells": [
  {
   "cell_type": "markdown",
   "id": "95d4f959-6c53-4c0e-a589-47940d30ec87",
   "metadata": {},
   "source": [
    "## Exercise 1  \n",
    "Write Python code that prints your name, student number and email address.  \n",
    "\n",
    "\n"
   ]
  },
  {
   "cell_type": "code",
   "execution_count": 8,
   "id": "a9928d58-db54-4df0-a4c4-5aecbbd385b4",
   "metadata": {},
   "outputs": [
    {
     "name": "stdout",
     "output_type": "stream",
     "text": [
      "Syam\n",
      "ST1001\n",
      "abc@gmail.com\n"
     ]
    }
   ],
   "source": [
    "name ='Syam'\n",
    "student_id ='ST1001'\n",
    "gmail= 'abc@gmail.com'\n",
    "print(name)\n",
    "print(student_id)\n",
    "print(gmail)\n"
   ]
  },
  {
   "cell_type": "markdown",
   "id": "b3b9f413-012b-466e-b8f6-faef083e468a",
   "metadata": {},
   "source": [
    "## Exercise 2 \n",
    "Write Python code that prints your name, student number and email address using escape sequences.  \n"
   ]
  },
  {
   "cell_type": "code",
   "execution_count": 16,
   "id": "c329f3ff-fe51-460f-9cac-c18760daea41",
   "metadata": {},
   "outputs": [
    {
     "name": "stdout",
     "output_type": "stream",
     "text": [
      "Syam\n",
      "ST1001\n",
      "abc@gmail.com\n",
      "\n"
     ]
    }
   ],
   "source": [
    "print(\"Syam\\nST1001\\nabc@gmail.com\\n\")\n"
   ]
  },
  {
   "cell_type": "markdown",
   "id": "81ee8caa-b1db-485b-b298-0f94b265bbb4",
   "metadata": {},
   "source": [
    "## Exercise 3 \n",
    "Write Python code that add, subtract, multiply and divide the two numbers. You can use the two numbers 14 and 7. \n"
   ]
  },
  {
   "cell_type": "code",
   "execution_count": 19,
   "id": "a6ceff02-df1a-49ec-ac14-6af037583a9f",
   "metadata": {},
   "outputs": [
    {
     "name": "stdout",
     "output_type": "stream",
     "text": [
      "21\n",
      "7\n",
      "98\n",
      "2.0\n"
     ]
    }
   ],
   "source": [
    "a=14\n",
    "b=7\n",
    "print(a+b)\n",
    "print(a-b)\n",
    "print(a*b)\n",
    "print(a/b)\n"
   ]
  },
  {
   "cell_type": "markdown",
   "id": "7aa105ae-02c3-42b9-90bd-1ccc041f084a",
   "metadata": {},
   "source": [
    "## Exercise 4\n",
    "Write Python code that displays the numbers from 1 to 5 as steps. \n"
   ]
  },
  {
   "cell_type": "code",
   "execution_count": 20,
   "id": "2ff686ff-011a-427c-b655-7608ec03ae49",
   "metadata": {},
   "outputs": [
    {
     "name": "stdout",
     "output_type": "stream",
     "text": [
      "1\n",
      "22\n",
      "333\n",
      "4444\n",
      "55555\n"
     ]
    }
   ],
   "source": [
    "for i in range(1,6):\n",
    "    print(str(i)*i)"
   ]
  },
  {
   "cell_type": "markdown",
   "id": "6bcf3e8a-040b-4c42-ad3f-3992a532bef1",
   "metadata": {},
   "source": [
    "## Exercise 5\n",
    "Write Python code that outputs the following sentence (including the quotation marks and line break) to the screen: \n",
    "\n",
    "\"SDK\" stands for \"Software Development Kit\", whereas \n",
    "\"IDE\" stands for \"Integrated Development Environment\".\n",
    "\n"
   ]
  },
  {
   "cell_type": "code",
   "execution_count": 26,
   "id": "58dd2b38-a1ab-440c-988b-2e1912ce512d",
   "metadata": {},
   "outputs": [
    {
     "name": "stdout",
     "output_type": "stream",
     "text": [
      "\"SDK\" stands for \"Software Development Kit\", whereas\n",
      "\"IDE\" stands for \"Integrated Development Environment\"\n"
     ]
    }
   ],
   "source": [
    "print('\"SDK\" stands for \"Software Development Kit\", whereas')\n",
    "print( '\"IDE\" stands for \"Integrated Development Environment\"')"
   ]
  },
  {
   "cell_type": "markdown",
   "id": "ecb93d3e-b959-4b33-98ee-b18f30019f75",
   "metadata": {},
   "source": [
    "## Exercise 6\n",
    "Practice and check the output\n",
    "print(\"python is an \\\"awesome\\\" language.\")\n",
    "print(\"python\\n\\t2023\")\n",
    "print('I\\'m from Entri.\\b')\n",
    "print(\"\\65\")\n",
    "print(\"\\x65\")\n",
    "print(\"Entri\", \"2023\", sep=\"\\n\")\n",
    "print(\"Entri\", \"2023\", sep=\"\\b\")\n",
    "print(\"Entri\", \"2023\", sep=\"*\", end=\"\\b\\b\\b\\b\")\n",
    "\n"
   ]
  },
  {
   "cell_type": "code",
   "execution_count": 30,
   "id": "b3510c3f-6209-40a1-8b71-8c1305cd8ccd",
   "metadata": {},
   "outputs": [
    {
     "name": "stdout",
     "output_type": "stream",
     "text": [
      "python is an \"awesome\" language.\n"
     ]
    }
   ],
   "source": [
    "print(\"python is an \\\"awesome\\\" language.\")"
   ]
  },
  {
   "cell_type": "code",
   "execution_count": 31,
   "id": "f6d5ef1c-0c2b-4b0a-9766-be9551ab49d7",
   "metadata": {},
   "outputs": [
    {
     "name": "stdout",
     "output_type": "stream",
     "text": [
      "python\n",
      "\t2023\n"
     ]
    }
   ],
   "source": [
    "print(\"python\\n\\t2023\")\n"
   ]
  },
  {
   "cell_type": "code",
   "execution_count": 32,
   "id": "c5d0b074-68be-498e-b755-72ad06640705",
   "metadata": {},
   "outputs": [
    {
     "name": "stdout",
     "output_type": "stream",
     "text": [
      "I'm from Entri\n"
     ]
    }
   ],
   "source": [
    "print('I\\'m from Entri.\\b')"
   ]
  },
  {
   "cell_type": "code",
   "execution_count": 33,
   "id": "e37f0312-9b6a-47ad-b167-1fa8f4510456",
   "metadata": {},
   "outputs": [
    {
     "name": "stdout",
     "output_type": "stream",
     "text": [
      "5\n"
     ]
    }
   ],
   "source": [
    "print(\"\\65\")"
   ]
  },
  {
   "cell_type": "code",
   "execution_count": 34,
   "id": "c568f832-b96f-4e4b-90de-b838e25a440d",
   "metadata": {},
   "outputs": [
    {
     "name": "stdout",
     "output_type": "stream",
     "text": [
      "e\n"
     ]
    }
   ],
   "source": [
    "print(\"\\x65\")"
   ]
  },
  {
   "cell_type": "code",
   "execution_count": 35,
   "id": "b858a12a-7196-491f-b2f9-2be86a665334",
   "metadata": {},
   "outputs": [
    {
     "name": "stdout",
     "output_type": "stream",
     "text": [
      "Entri\n",
      "2023\n"
     ]
    }
   ],
   "source": [
    "print(\"Entri\", \"2023\", sep=\"\\n\")"
   ]
  },
  {
   "cell_type": "code",
   "execution_count": 36,
   "id": "9eeedf34-8330-4497-b176-6c190d60a6b8",
   "metadata": {},
   "outputs": [
    {
     "name": "stdout",
     "output_type": "stream",
     "text": [
      "Entr2023\n"
     ]
    }
   ],
   "source": [
    "print(\"Entri\", \"2023\", sep=\"\\b\")"
   ]
  },
  {
   "cell_type": "code",
   "execution_count": 37,
   "id": "cfda7f2b-aef2-4571-80c6-865108b0fc01",
   "metadata": {},
   "outputs": [
    {
     "name": "stdout",
     "output_type": "stream",
     "text": [
      "Entri*20"
     ]
    }
   ],
   "source": [
    "print(\"Entri\", \"2023\", sep=\"*\", end=\"\\b\\b\\b\\b\")"
   ]
  },
  {
   "cell_type": "markdown",
   "id": "cc35df66-8e39-4c22-be84-8e474882202e",
   "metadata": {},
   "source": [
    "## Exercise 7\n",
    "Define the variables below. Print the types of each variable. What is the sum of your variables? (Hint: use a type conversion function.) What datatype is the sum?\n",
    "\n",
    "num=23\n",
    "textnum=\"57\"\n",
    "decimal=98.3\n"
   ]
  },
  {
   "cell_type": "code",
   "execution_count": 42,
   "id": "ed576828-d408-4dac-aab3-80cebd0d6736",
   "metadata": {},
   "outputs": [
    {
     "name": "stdout",
     "output_type": "stream",
     "text": [
      "The Type of variable num is: <class 'int'>\n",
      "the type of variable textnum is: <class 'str'>\n",
      "the type of varible decimal is: <class 'float'>\n",
      "Sum: 178.3\n",
      "Type of sum: <class 'float'>\n"
     ]
    }
   ],
   "source": [
    "num=23\n",
    "textnum=\"57\"\n",
    "decimal=98.3\n",
    "print('The Type of variable num is:',type(num))\n",
    "print('the type of variable textnum is:',type(textnum))\n",
    "print('the type of varible decimal is:',type(decimal))\n",
    "sum1=num + int(textnum) + decimal\n",
    "print(\"Sum:\", sum1)\n",
    "print(\"Type of sum:\", type(sum1))\n"
   ]
  },
  {
   "cell_type": "markdown",
   "id": "3080cfc5-fb4e-4dba-b442-f3903791d3fe",
   "metadata": {},
   "source": [
    "## Exercise 8 \n",
    "\n",
    "calculate the number of minutes in a year using variables for each unit of time. print a statement that describes what your code does also. Create three variables to store no of days in a year, minute in a hour, hours in a day, then calculate the total minutes in a year and print the values (hint) total number of minutes in an year =No.of days in an year * Hours in a day * Minutes in an hour\n"
   ]
  },
  {
   "cell_type": "code",
   "execution_count": 43,
   "id": "3f8adbd4-8934-47c7-a32c-99fc3ed127ca",
   "metadata": {},
   "outputs": [
    {
     "name": "stdout",
     "output_type": "stream",
     "text": [
      "This code calculates the total number of minutes in a year.\n",
      "Total minutes in a year: 525600\n"
     ]
    }
   ],
   "source": [
    "no_days_year=365\n",
    "hours_day=24\n",
    "minutes_hour=60\n",
    "total_number_of_minutes_in_a_year = no_days_year * hours_day * minutes_hour\n",
    "print(\"This code calculates the total number of minutes in a year.\")\n",
    "print(\"Total minutes in a year:\", total_number_of_minutes_in_a_year)"
   ]
  },
  {
   "cell_type": "markdown",
   "id": "307b9b4a-a630-48f3-8b8f-919bab7cb6e6",
   "metadata": {},
   "source": [
    " ## Exercise 9\n",
    " Write Python code that asks the user to enter his/her name and then output/prints his/her name with a greeting. An example runs of the program: Please enter you name: Tony Hi Tony, welcome to Python programming :) "
   ]
  },
  {
   "cell_type": "markdown",
   "id": "61f8b519-9518-4088-98f4-87796cd0e1b6",
   "metadata": {},
   "source": [
    "name=input('Please enter you name')\n",
    "print(f'Hi {name}, Good Day! Welcome to Python programming :)')"
   ]
  },
  {
   "cell_type": "code",
   "execution_count": null,
   "id": "d7075cd5-f82c-497f-909c-dff0c0af9315",
   "metadata": {},
   "outputs": [],
   "source": []
  }
 ],
 "metadata": {
  "kernelspec": {
   "display_name": "Python 3 (ipykernel)",
   "language": "python",
   "name": "python3"
  },
  "language_info": {
   "codemirror_mode": {
    "name": "ipython",
    "version": 3
   },
   "file_extension": ".py",
   "mimetype": "text/x-python",
   "name": "python",
   "nbconvert_exporter": "python",
   "pygments_lexer": "ipython3",
   "version": "3.12.7"
  }
 },
 "nbformat": 4,
 "nbformat_minor": 5
}
